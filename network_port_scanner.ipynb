{
 "cells": [
  {
   "cell_type": "markdown",
   "id": "cc3d2f33-8a1d-4a37-a460-f487e549c109",
   "metadata": {},
   "source": [
    "Python-based Network Port Scanner"
   ]
  },
  {
   "cell_type": "markdown",
   "id": "6c96dcf2-e027-46f3-b2ac-29b9d709548d",
   "metadata": {},
   "source": [
    "requirements:  pip install IPy\n",
    "\n",
    "Features & Customizations\n",
    "Multithreading: Scans multiple ports simultaneously for speed.\n",
    "Service Detection: Maps open ports to known services (e.g., port 80 → HTTP).\n",
    "Error Handling: Skips unresponsive ports gracefully."
   ]
  },
  {
   "cell_type": "markdown",
   "id": "a8060ad0-8449-4bfe-a01f-b649c3d60613",
   "metadata": {},
   "source": [
    "Port Scanner Code :"
   ]
  },
  {
   "cell_type": "code",
   "execution_count": 2,
   "id": "625e6641-097c-4474-a920-2a9b1066036a",
   "metadata": {},
   "outputs": [
    {
     "name": "stdin",
     "output_type": "stream",
     "text": [
      "Enter target IP or domain:  scanme.nmap.org\n",
      "Scan common ports (Y/n)?  y\n"
     ]
    },
    {
     "name": "stdout",
     "output_type": "stream",
     "text": [
      "\n",
      "Scanning target: 45.33.32.156\n",
      "[+] Port 22 (ssh) is open\n",
      "[+] Port 80 (http) is open\n"
     ]
    }
   ],
   "source": [
    "import socket\n",
    "import concurrent.futures\n",
    "from IPy import IP\n",
    "\n",
    "def scan_port(ip, port):\n",
    "    try:\n",
    "        sock = socket.socket(socket.AF_INET, socket.SOCK_STREAM)\n",
    "        sock.settimeout(1)  # Adjust timeout as needed\n",
    "        result = sock.connect_ex((ip, port))\n",
    "        if result == 0:\n",
    "            try:\n",
    "                service = socket.getservbyport(port)\n",
    "            except:\n",
    "                service = \"Unknown\"\n",
    "            print(f\"[+] Port {port} ({service}) is open\")\n",
    "        sock.close()\n",
    "    except Exception as e:\n",
    "        pass\n",
    "\n",
    "def scan_target(target, ports):\n",
    "    print(f\"\\nScanning target: {target}\")\n",
    "    with concurrent.futures.ThreadPoolExecutor(max_workers=100) as executor:\n",
    "        executor.map(lambda port: scan_port(target, port), ports)\n",
    "\n",
    "def get_ports():\n",
    "    # Scan common ports (or customize)\n",
    "    common_ports = [21, 22, 23, 25, 53, 80, 110, 135, 139, 143, 443, 445, 3389, 8080]\n",
    "    choice = input(\"Scan common ports (Y/n)? \").strip().lower()\n",
    "    if choice == 'n':\n",
    "        start = int(input(\"Enter start port: \"))\n",
    "        end = int(input(\"Enter end port: \"))\n",
    "        return range(start, end + 1)\n",
    "    return common_ports\n",
    "\n",
    "def validate_ip(target):\n",
    "    try:\n",
    "        IP(target)\n",
    "        return target\n",
    "    except ValueError:\n",
    "        return socket.gethostbyname(target)  # Resolve domain to IP\n",
    "\n",
    "# Main execution\n",
    "if __name__ == \"__main__\":\n",
    "    target = input(\"Enter target IP or domain: \")\n",
    "    target = validate_ip(target)\n",
    "    ports = get_ports()\n",
    "    scan_target(target, ports)"
   ]
  },
  {
   "cell_type": "markdown",
   "id": "ea47ecc1-7ce6-405e-851a-7f5c1aeb6d65",
   "metadata": {},
   "source": [
    "Key Features of This Nmap Code:\n",
    "\n",
    "Service Detection: Uses -sV to fetch service versions (e.g., OpenSSH 8.2p1).\n",
    "Flexible Port Ranges: Accepts 22,80,443 or 1-1000.\n",
    "Clean Output: Prints port, state, service, and version in a readable format.\n",
    "More powerful than raw sockets (OS detection, service versions).\n",
    "Industry standard for penetration testing.\n",
    "Extensible: Add -O for OS detection or -A for aggressive scanning."
   ]
  },
  {
   "cell_type": "code",
   "execution_count": null,
   "id": "bd308673-6113-4424-bdbd-14f18cf96db4",
   "metadata": {},
   "outputs": [],
   "source": [
    "import nmap\n",
    "\n",
    "def nmap_port_scanner():\n",
    "    target = input(\"Enter target IP/Domain: \").strip()\n",
    "    ports = input(\"Enter ports (e.g., '22,80,443' or '1-1000'): \").strip()\n",
    "    \n",
    "    # Initialize Nmap scanner\n",
    "    nm = nmap.PortScanner()\n",
    "    print(f\"\\nScanning {target} on ports {ports}...\")\n",
    "    \n",
    "    # Run scan with service/OS detection (-sV)\n",
    "    nm.scan(target, ports, arguments=\"-sV\")\n",
    "    \n",
    "    # Print results\n",
    "    for host in nm.all_hosts():\n",
    "        print(f\"\\nResults for {host}:\")\n",
    "        for proto in nm[host].all_protocols():\n",
    "            ports = nm[host][proto].keys()\n",
    "            for port in ports:\n",
    "                service = nm[host][proto][port]\n",
    "                print(\n",
    "                    f\"Port: {port}/{proto} | \" \n",
    "                    f\"State: {service['state']} | \" \n",
    "                    f\"Service: {service['name']} | \"\n",
    "                    f\"Version: {service.get('version', 'N/A')}\"\n",
    "                )\n",
    "\n",
    "# Run the scanner\n",
    "if __name__ == \"__main__\":\n",
    "    nmap_port_scanner()"
   ]
  },
  {
   "cell_type": "markdown",
   "id": "a130dfa4-70c6-48d0-934c-a62d22ce5f3c",
   "metadata": {},
   "source": [
    "Example Output: \n",
    "Enter target IP/Domain: scanme.nmap.org  \n",
    "Enter ports (e.g., '22,80,443' or '1-1000'): 22,80  \n",
    "\n",
    "Scanning scanme.nmap.org on ports 22,80...  \n",
    "\n",
    "Results for 45.33.32.156:  \n",
    "Port: 22/tcp | State: open | Service: ssh | Version: OpenSSH 6.6.1  \n",
    "Port: 80/tcp | State: open | Service: http | Version: Apache 2.4.7  "
   ]
  }
 ],
 "metadata": {
  "kernelspec": {
   "display_name": "Python 3 (ipykernel)",
   "language": "python",
   "name": "python3"
  },
  "language_info": {
   "codemirror_mode": {
    "name": "ipython",
    "version": 3
   },
   "file_extension": ".py",
   "mimetype": "text/x-python",
   "name": "python",
   "nbconvert_exporter": "python",
   "pygments_lexer": "ipython3",
   "version": "3.12.3"
  }
 },
 "nbformat": 4,
 "nbformat_minor": 5
}
